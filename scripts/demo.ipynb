{
 "cells": [
  {
   "metadata": {
    "ExecuteTime": {
     "end_time": "2024-10-06T04:28:38.156965Z",
     "start_time": "2024-10-06T04:28:38.072132Z"
    }
   },
   "cell_type": "code",
   "source": [
    "from dataclasses import replace\n",
    "import multiprocessing\n",
    "multiprocessing.set_start_method(\"spawn\")\n",
    "global_manager = multiprocessing.Manager()\n"
   ],
   "id": "17d4bb147be03fa2",
   "outputs": [],
   "execution_count": 1
  },
  {
   "cell_type": "code",
   "id": "initial_id",
   "metadata": {
    "collapsed": true,
    "ExecuteTime": {
     "end_time": "2024-10-06T04:28:38.162477Z",
     "start_time": "2024-10-06T04:28:38.158980Z"
    }
   },
   "source": [
    "target_model = 'meta-llama/Llama-2-13b-chat-hf'\n",
    "tensor_parallel_size = 1\n",
    "paraphrase_models = ['meta-llama/Meta-Llama-3-8B-Instruct', 'meta-llama/Llama-2-13b-chat-hf']\n",
    "devices = ['0', '1', '2', '3']\n",
    "\n",
    "deltas = [1,2,4,8] # Watermark Strength\n",
    "temp = 0.7 # Watermark Generator Temperature"
   ],
   "outputs": [],
   "execution_count": 2
  },
  {
   "metadata": {
    "ExecuteTime": {
     "end_time": "2024-10-06T04:28:41.100474Z",
     "start_time": "2024-10-06T04:28:38.163607Z"
    }
   },
   "cell_type": "code",
   "source": [
    "from watermark_benchmark import ConfigSpec\n",
    "from watermark_benchmark.utils.classes import WatermarkSpec\n",
    "\n",
    "default_watermark_params = {\n",
    "    'rng': 'Internal', \n",
    "    'hash_len': 3, 'min_hash': None, \n",
    "    'key_len': 4, 'generator': 'distributionshift', \n",
    "    'tokenizer': '', 'temp': 0, 'delta': 4, 'gamma': 0.5, \n",
    "    'skip_prob':0, 'pvalue': 0.01, \n",
    "    'verifiers': [{'verifier': 'Theoretical', 'empirical_method': 'regular', 'log': True, 'gamma': 0}], \n",
    "    'randomize': True, 'offset': False\n",
    "}\n",
    "config = ConfigSpec(\n",
    "    num_return_sequences= 1,\n",
    "    model = target_model,\n",
    "    engine= \"vllm\",\n",
    "    baseline = True,\n",
    "    watermark = \"watermark_specs\",\n",
    "    max_new_tokens = 512,\n",
    "    seed=42,\n",
    "    hf_batch_size=16,\n",
    "    paraphrase = True,\n",
    "    dipper_processes = 0,\n",
    "    openai_processes = 0,\n",
    "    custom_processes = 1,\n",
    "    translate_processes = 1,\n",
    "    custom_only = True,\n",
    "    threads = 32,\n",
    "    misspellings = \"static_data/misspellings.json\",\n",
    "    devices = devices,\n",
    "    detections_per_gpu = 16,\n",
    "    quality_metric = \"llm_cot\",\n",
    "    gpu_memory_utilization = 0.95 if len(devices) > 1 else 0.45,\n",
    "    dtype = \"bfloat16\",\n",
    "    custom_model_paths = paraphrase_models,\n",
    "    custom_batch = 1,\n",
    "    custom_temperature = 1.0,\n",
    "    custom_max_new_tokens = 512,\n",
    ")\n",
    "watermarks =  [\n",
    "            replace(WatermarkSpec.from_dict(default_watermark_params), \n",
    "                    tokenizer=target_model, delta=delta, temp=temp)\n",
    "            for delta in deltas\n",
    "]"
   ],
   "id": "e7a3b8aae89eefe5",
   "outputs": [],
   "execution_count": 3
  },
  {
   "metadata": {
    "ExecuteTime": {
     "end_time": "2024-10-06T04:28:41.462014Z",
     "start_time": "2024-10-06T04:28:41.102458Z"
    }
   },
   "cell_type": "code",
   "source": [
    "from scripts.demo_helpers import WatermarkGenerator\n",
    "generator = WatermarkGenerator(config, global_manager, devices[:tensor_parallel_size])"
   ],
   "id": "441fde8161f1ce18",
   "outputs": [],
   "execution_count": 4
  },
  {
   "metadata": {
    "ExecuteTime": {
     "end_time": "2024-10-06T04:28:41.532166Z",
     "start_time": "2024-10-06T04:28:41.464779Z"
    }
   },
   "cell_type": "code",
   "source": [
    "from scripts.demo_helpers import Paraphraser\n",
    "\n",
    "paraphraser = Paraphraser(config, global_manager, devices[tensor_parallel_size:-1])"
   ],
   "id": "f800ac2eca32fd02",
   "outputs": [],
   "execution_count": 5
  },
  {
   "metadata": {
    "ExecuteTime": {
     "end_time": "2024-10-06T04:28:41.570989Z",
     "start_time": "2024-10-06T04:28:41.536319Z"
    }
   },
   "cell_type": "code",
   "source": [
    "from scripts.demo_helpers import Rater\n",
    "\n",
    "rater = Rater(config, global_manager, devices[-1])"
   ],
   "id": "e57a1bc17daa4698",
   "outputs": [],
   "execution_count": 6
  },
  {
   "metadata": {
    "ExecuteTime": {
     "end_time": "2024-10-06T04:28:41.819243Z",
     "start_time": "2024-10-06T04:28:41.574454Z"
    }
   },
   "cell_type": "code",
   "source": [
    "from scripts.demo_helpers import prepare_prompts\n",
    "system_prompt = \"You are a helpful assistant that is trying to help the user with their task.\"\n",
    "instructions = [\n",
    "    \"Write a poem about a sunset.\",\n",
    "    \"Write a poem about a sunrise.\",\n",
    "    \"Write a poem about a rainbow.\",\n",
    "    \"Write a poem about a waterfall.\",\n",
    "]\n",
    "raw_prompts = [(i, system_prompt) for i in instructions]\n",
    "all_tasks, prompts = prepare_prompts(target_model, raw_prompts, watermarks, temp)"
   ],
   "id": "30a36297de58de74",
   "outputs": [],
   "execution_count": 7
  },
  {
   "metadata": {},
   "cell_type": "code",
   "source": "watermarked_samples, baseline_samples = generator.generate(prompts, all_tasks)",
   "id": "3213d26580336d53",
   "outputs": [],
   "execution_count": null
  },
  {
   "metadata": {},
   "cell_type": "code",
   "source": "paraphrased_samples = paraphraser.paraphrase(watermarked_samples)",
   "id": "b3f352bd8a57e498",
   "outputs": [],
   "execution_count": null
  },
  {
   "metadata": {},
   "cell_type": "code",
   "source": [
    "all_samples = (baseline_samples,watermarked_samples, paraphrased_samples)\n",
    "all_samples = rater.rate(all_samples)\n",
    "baseline_samples,watermarked_samples, paraphrased_samples = all_samples"
   ],
   "id": "7cf1daeea3570a7",
   "outputs": [],
   "execution_count": null
  },
  {
   "metadata": {
    "jupyter": {
     "is_executing": true
    }
   },
   "cell_type": "code",
   "source": "paraphrased_samples[0]",
   "id": "eb19fa31ce8a3af7",
   "outputs": [],
   "execution_count": null
  },
  {
   "metadata": {
    "jupyter": {
     "is_executing": true
    }
   },
   "cell_type": "code",
   "source": [
    "generator.kill()\n",
    "paraphraser.kill()\n",
    "rater.kill()"
   ],
   "id": "3c133dd72cfb3c2b",
   "outputs": [],
   "execution_count": null
  }
 ],
 "metadata": {
  "kernelspec": {
   "display_name": "Python 3",
   "language": "python",
   "name": "python3"
  },
  "language_info": {
   "codemirror_mode": {
    "name": "ipython",
    "version": 2
   },
   "file_extension": ".py",
   "mimetype": "text/x-python",
   "name": "python",
   "nbconvert_exporter": "python",
   "pygments_lexer": "ipython2",
   "version": "2.7.6"
  }
 },
 "nbformat": 4,
 "nbformat_minor": 5
}
